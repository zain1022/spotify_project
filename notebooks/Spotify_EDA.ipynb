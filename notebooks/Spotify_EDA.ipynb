# Import libraries
import pandas as pd
import matplotlib.pyplot as plt
import seaborn as sns
import os

# Load Spotify data
data_dir = "../data"  # Adjust path if necessary
file_paths = [os.path.join(data_dir, file) for file in os.listdir(data_dir) if file.endswith(".json")]

all_data = []
for file_path in file_paths:
    with open(file_path, "r", encoding="utf-8") as file:
        all_data.extend(json.load(file))

# Convert to DataFrame
df = pd.DataFrame(all_data)

# Convert timestamps
df['endTime'] = pd.to_datetime(df['endTime'])

# Explore top artists
top_artists = df['artistName'].value_counts().head(10)
print("Top Artists:")
print(top_artists)

# Visualize top artists
plt.figure(figsize=(10, 6))
sns.barplot(x=top_artists.values, y=top_artists.index, palette="viridis")
plt.title("Top Artists by Play Count")
plt.xlabel("Play Count")
plt.ylabel("Artist")
plt.show()

# Analyze listening trends by month
df['month'] = df['endTime'].dt.month
monthly_trends = df.groupby('month')['trackName'].count()

plt.figure(figsize=(10, 6))
sns.lineplot(x=monthly_trends.index, y=monthly_trends.values)
plt.title("Monthly Listening Trends")
plt.xlabel("Month")
plt.ylabel("Number of Streams")
plt.show()
