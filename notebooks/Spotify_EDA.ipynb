{
 "cells": [
  {
   "cell_type": "code",
   "execution_count": null,
   "id": "01b5b4dc",
   "metadata": {},
   "outputs": [],
   "source": [
    "# Import libraries\n",
    "import pandas as pd\n",
    "import matplotlib.pyplot as plt\n",
    "import seaborn as sns\n",
    "import json\n",
    "import os"
   ]
  },
  {
   "cell_type": "code",
   "execution_count": null,
   "id": "4f32e68f",
   "metadata": {},
   "outputs": [],
   "source": [
    "# Load Spotify data\n",
    "data_dir = \"../data\"  # Adjust path if necessary\n",
    "file_paths = [os.path.join(data_dir, file) for file in os.listdir(data_dir) if file.endswith(\".json\")]\n",
    "\n",
    "all_data = []\n",
    "for file_path in file_paths:\n",
    "    with open(file_path, \"r\", encoding=\"utf-8\") as file:\n",
    "        all_data.extend(json.load(file))\n",
    "\n",
    "# Convert to DataFrame\n",
    "df = pd.DataFrame(all_data)\n",
    "\n",
    "# Convert timestamps\n",
    "df['endTime'] = pd.to_datetime(df['endTime'])"
   ]
  },
  {
   "cell_type": "code",
   "execution_count": null,
   "id": "731df372",
   "metadata": {},
   "outputs": [],
   "source": [
    "# Explore top artists\n",
    "top_artists = df['artistName'].value_counts().head(10)\n",
    "print(\"Top Artists:\")\n",
    "print(top_artists)\n",
    "\n",
    "# Visualize top artists\n",
    "plt.figure(figsize=(10, 6))\n",
    "sns.barplot(x=top_artists.values, y=top_artists.index, palette=\"viridis\")\n",
    "plt.title(\"Top Artists by Play Count\")\n",
    "plt.xlabel(\"Play Count\")\n",
    "plt.ylabel(\"Artist\")\n",
    "plt.show()"
   ]
  },
  {
   "cell_type": "code",
   "execution_count": null,
   "id": "c64b795b",
   "metadata": {},
   "outputs": [],
   "source": [
    "# Analyze listening trends by month\n",
    "df['month'] = df['endTime'].dt.month\n",
    "monthly_trends = df.groupby('month')['trackName'].count()\n",
    "\n",
    "plt.figure(figsize=(10, 6))\n",
    "sns.lineplot(x=monthly_trends.index, y=monthly_trends.values)\n",
    "plt.title(\"Monthly Listening Trends\")\n",
    "plt.xlabel(\"Month\")\n",
    "plt.ylabel(\"Number of Streams\")\n",
    "plt.show()"
   ]
  }
 ],
 "metadata": {
  "kernelspec": {
   "display_name": "Python 3",
   "language": "python",
   "name": "python3"
  },
  "language_info": {
   "codemirror_mode": {
    "name": "ipython",
    "version": 3
   },
   "file_extension": ".py",
   "mimetype": "text/x-python",
   "name": "python",
   "nbconvert_exporter": "python",
   "pygments_lexer": "ipython3",
   "version": "3.8.5"
  }
 },
 "nbformat": 4,
 "nbformat_minor": 5
}
